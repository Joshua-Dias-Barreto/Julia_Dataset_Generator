{
  "nbformat": 4,
  "nbformat_minor": 0,
  "metadata": {
    "colab": {
      "provenance": [],
      "include_colab_link": true
    },
    "kernelspec": {
      "display_name": "Julia",
      "language": "julia",
      "name": "julia"
    },
    "language_info": {
      "file_extension": ".jl",
      "mimetype": "application/julia",
      "name": "julia"
    },
    "gpuClass": "standard"
  },
  "cells": [
    {
      "cell_type": "markdown",
      "metadata": {
        "id": "view-in-github",
        "colab_type": "text"
      },
      "source": [
        "<a href=\"https://colab.research.google.com/github/Joshua-Dias-Barreto/Julia_Dataset_Generator/blob/main/Julia_Dataset_Generator.ipynb\" target=\"_parent\"><img src=\"https://colab.research.google.com/assets/colab-badge.svg\" alt=\"Open In Colab\"/></a>"
      ]
    },
    {
      "cell_type": "markdown",
      "metadata": {
        "id": "tQ1r1bbb0yBv"
      },
      "source": [
        "# <img src=\"https://github.com/JuliaLang/julia-logo-graphics/raw/master/images/julia-logo-color.png\" height=\"100\" /> _Colab Notebook Template_\n",
        "\n",
        "## Instructions\n",
        "1. Work on a copy of this notebook: _File_ > _Save a copy in Drive_ (you will need a Google account). Alternatively, you can download the notebook using _File_ > _Download .ipynb_, then upload it to [Colab](https://colab.research.google.com/).\n",
        "2. If you need a GPU: _Runtime_ > _Change runtime type_ > _Harware accelerator_ = _GPU_.\n",
        "3. Execute the following cell (click on it and press Ctrl+Enter) to install Julia, IJulia and other packages (if needed, update `JULIA_VERSION` and the other parameters). This takes a couple of minutes.\n",
        "4. Reload this page (press Ctrl+R, or ⌘+R, or the F5 key) and continue to the next section.\n",
        "\n",
        "_Notes_:\n",
        "* If your Colab Runtime gets reset (e.g., due to inactivity), repeat steps 2, 3 and 4.\n",
        "* After installation, if you want to change the Julia version or activate/deactivate the GPU, you will need to reset the Runtime: _Runtime_ > _Factory reset runtime_ and repeat steps 3 and 4."
      ]
    },
    {
      "cell_type": "code",
      "metadata": {
        "id": "GIeFXS0F0zww",
        "colab": {
          "base_uri": "https://localhost:8080/"
        },
        "outputId": "fee8f63e-0e09-4564-bad3-de811e0c73f5"
      },
      "source": [
        "%%shell\n",
        "set -e\n",
        "\n",
        "#---------------------------------------------------#\n",
        "JULIA_VERSION=\"1.8.2\" # any version ≥ 0.7.0\n",
        "JULIA_PACKAGES=\"IJulia BenchmarkTools\"\n",
        "JULIA_PACKAGES_IF_GPU=\"CUDA\" # or CuArrays for older Julia versions\n",
        "JULIA_NUM_THREADS=2\n",
        "#---------------------------------------------------#\n",
        "\n",
        "if [ -z `which julia` ]; then\n",
        "  # Install Julia\n",
        "  JULIA_VER=`cut -d '.' -f -2 <<< \"$JULIA_VERSION\"`\n",
        "  echo \"Installing Julia $JULIA_VERSION on the current Colab Runtime...\"\n",
        "  BASE_URL=\"https://julialang-s3.julialang.org/bin/linux/x64\"\n",
        "  URL=\"$BASE_URL/$JULIA_VER/julia-$JULIA_VERSION-linux-x86_64.tar.gz\"\n",
        "  wget -nv $URL -O /tmp/julia.tar.gz # -nv means \"not verbose\"\n",
        "  tar -x -f /tmp/julia.tar.gz -C /usr/local --strip-components 1\n",
        "  rm /tmp/julia.tar.gz\n",
        "\n",
        "  # Install Packages\n",
        "  nvidia-smi -L &> /dev/null && export GPU=1 || export GPU=0\n",
        "  if [ $GPU -eq 1 ]; then\n",
        "    JULIA_PACKAGES=\"$JULIA_PACKAGES $JULIA_PACKAGES_IF_GPU\"\n",
        "  fi\n",
        "  for PKG in `echo $JULIA_PACKAGES`; do\n",
        "    echo \"Installing Julia package $PKG...\"\n",
        "    julia -e 'using Pkg; pkg\"add '$PKG'; precompile;\"' &> /dev/null\n",
        "  done\n",
        "\n",
        "  # Install kernel and rename it to \"julia\"\n",
        "  echo \"Installing IJulia kernel...\"\n",
        "  julia -e 'using IJulia; IJulia.installkernel(\"julia\", env=Dict(\n",
        "      \"JULIA_NUM_THREADS\"=>\"'\"$JULIA_NUM_THREADS\"'\"))'\n",
        "  KERNEL_DIR=`julia -e \"using IJulia; print(IJulia.kerneldir())\"`\n",
        "  KERNEL_NAME=`ls -d \"$KERNEL_DIR\"/julia*`\n",
        "  mv -f $KERNEL_NAME \"$KERNEL_DIR\"/julia  \n",
        "\n",
        "  echo ''\n",
        "  echo \"Successfully installed `julia -v`!\"\n",
        "  echo \"Please reload this page (press Ctrl+R, ⌘+R, or the F5 key) then\"\n",
        "  echo \"jump to the 'Checking the Installation' section.\"\n",
        "fi"
      ],
      "execution_count": null,
      "outputs": [
        {
          "output_type": "stream",
          "name": "stdout",
          "text": [
            "Installing Julia 1.8.2 on the current Colab Runtime...\n",
            "2023-02-14 14:55:15 URL:https://storage.googleapis.com/julialang2/bin/linux/x64/1.8/julia-1.8.2-linux-x86_64.tar.gz [135859273/135859273] -> \"/tmp/julia.tar.gz\" [1]\n",
            "Installing Julia package IJulia...\n",
            "Installing Julia package BenchmarkTools...\n",
            "Installing IJulia kernel...\n",
            "\u001b[36m\u001b[1m[ \u001b[22m\u001b[39m\u001b[36m\u001b[1mInfo: \u001b[22m\u001b[39mInstalling julia kernelspec in /root/.local/share/jupyter/kernels/julia-1.8\n",
            "\n",
            "Successfully installed julia version 1.8.2!\n",
            "Please reload this page (press Ctrl+R, ⌘+R, or the F5 key) then\n",
            "jump to the 'Checking the Installation' section.\n"
          ]
        },
        {
          "output_type": "execute_result",
          "data": {
            "text/plain": []
          },
          "metadata": {},
          "execution_count": 1
        }
      ]
    },
    {
      "cell_type": "markdown",
      "metadata": {
        "id": "-OS3Ac017T1i"
      },
      "source": [
        "# Checking the Installation\n",
        "The `versioninfo()` function should print your Julia version and some other info about the system:"
      ]
    },
    {
      "cell_type": "code",
      "metadata": {
        "id": "EEzvvzCl1i0F",
        "colab": {
          "base_uri": "https://localhost:8080/"
        },
        "outputId": "5ea1c1ab-488d-461d-a8d1-4a1e20288724"
      },
      "source": [
        "versioninfo()"
      ],
      "execution_count": 1,
      "outputs": [
        {
          "output_type": "stream",
          "name": "stdout",
          "text": [
            "Julia Version 1.8.2\n",
            "Commit 36034abf260 (2022-09-29 15:21 UTC)\n",
            "Platform Info:\n",
            "  OS: Linux (x86_64-linux-gnu)\n",
            "  CPU: 2 × Intel(R) Xeon(R) CPU @ 2.20GHz\n",
            "  WORD_SIZE: 64\n",
            "  LIBM: libopenlibm\n",
            "  LLVM: libLLVM-13.0.1 (ORCJIT, broadwell)\n",
            "  Threads: 2 on 2 virtual cores\n",
            "Environment:\n",
            "  LD_LIBRARY_PATH = /usr/local/nvidia/lib:/usr/local/nvidia/lib64\n",
            "  JULIA_NUM_THREADS = 2\n"
          ]
        }
      ]
    },
    {
      "cell_type": "code",
      "source": [
        "using BenchmarkTools\n",
        "\n",
        "M = rand(2^11, 2^11)\n",
        "\n",
        "@btime $M * $M;"
      ],
      "metadata": {
        "colab": {
          "base_uri": "https://localhost:8080/"
        },
        "id": "YjM_qq54lCcs",
        "outputId": "93bd073d-8853-46be-d54f-65c7f1bf4d30"
      },
      "execution_count": null,
      "outputs": [
        {
          "output_type": "stream",
          "name": "stdout",
          "text": [
            "  465.359 ms (2 allocations: 32.00 MiB)\n"
          ]
        }
      ]
    },
    {
      "cell_type": "code",
      "metadata": {
        "id": "XciCcMAJOT3_",
        "colab": {
          "base_uri": "https://localhost:8080/"
        },
        "outputId": "56f8a755-0799-4243-9277-7dea10fad14a"
      },
      "source": [
        "try\n",
        "    using CUDA\n",
        "catch\n",
        "    println(\"No GPU found.\")\n",
        "else\n",
        "    run(`nvidia-smi`)\n",
        "    # Create a new random matrix directly on the GPU:\n",
        "    M_on_gpu = CUDA.CURAND.rand(2^11, 2^11)\n",
        "    @btime $M_on_gpu * $M_on_gpu; nothing\n",
        "end"
      ],
      "execution_count": null,
      "outputs": [
        {
          "output_type": "stream",
          "name": "stdout",
          "text": [
            "No GPU found.\n"
          ]
        }
      ]
    },
    {
      "cell_type": "code",
      "source": [
        "\n",
        "API_KEY=\"enter your API_KEY\"\n",
        "pageToken=\"\"\n",
        "CHANNEL_ID=\"UCRijo3ddMTht_IHyNSNXpNQ\""
      ],
      "metadata": {
        "colab": {
          "base_uri": "https://localhost:8080/"
        },
        "id": "4O0oKi1kbiip",
        "outputId": "61bc0496-e89f-4931-a2e0-687cc20fd651"
      },
      "execution_count": 4,
      "outputs": [
        {
          "output_type": "execute_result",
          "data": {
            "text/plain": [
              "\"UCRijo3ddMTht_IHyNSNXpNQ\""
            ]
          },
          "metadata": {},
          "execution_count": 4
        }
      ]
    },
    {
      "cell_type": "code",
      "source": [
        "#url = \"https://www.googleapis.com/youtube/v3/search?key=\"+API_KEY+\"&channelId=\"+CHANNEL_ID+\"&part=snippet,id&order=date&maxResults=300&\"+pageToken\n"
      ],
      "metadata": {
        "colab": {
          "base_uri": "https://localhost:8080/",
          "height": 218
        },
        "id": "VHmINGlubn5C",
        "outputId": "ed45bb41-4014-4dbe-faa2-dbf93e91d377"
      },
      "execution_count": 5,
      "outputs": [
        {
          "output_type": "error",
          "ename": "LoadError",
          "evalue": "ignored",
          "traceback": [
            "MethodError: no method matching +(::String, ::String)\n\u001b[0mClosest candidates are:\n\u001b[0m  +(::Any, ::Any, \u001b[91m::Any\u001b[39m, \u001b[91m::Any...\u001b[39m) at operators.jl:591",
            "",
            "Stacktrace:",
            " [1] +(::String, ::String, ::String, ::String, ::String, ::String)",
            "   @ Base ./operators.jl:591",
            " [2] top-level scope",
            "   @ In[5]:1"
          ]
        }
      ]
    },
    {
      "cell_type": "code",
      "source": [
        "using Pkg\n",
        "Pkg.add(\"DataFrames\")\n",
        "using DataFrames"
      ],
      "metadata": {
        "colab": {
          "base_uri": "https://localhost:8080/"
        },
        "id": "1jgQ1MrscoWm",
        "outputId": "58ded068-0cfa-4b26-de4d-ddb63581a566"
      },
      "execution_count": 40,
      "outputs": [
        {
          "output_type": "stream",
          "name": "stderr",
          "text": [
            "\u001b[32m\u001b[1m   Resolving\u001b[22m\u001b[39m package versions...\n",
            "\u001b[32m\u001b[1m   Installed\u001b[22m\u001b[39m Crayons ───────────────────── v4.1.1\n",
            "\u001b[32m\u001b[1m   Installed\u001b[22m\u001b[39m SentinelArrays ────────────── v1.3.17\n",
            "\u001b[32m\u001b[1m   Installed\u001b[22m\u001b[39m DataAPI ───────────────────── v1.14.0\n",
            "\u001b[32m\u001b[1m   Installed\u001b[22m\u001b[39m Tables ────────────────────── v1.10.0\n",
            "\u001b[32m\u001b[1m   Installed\u001b[22m\u001b[39m PooledArrays ──────────────── v1.4.2\n",
            "\u001b[32m\u001b[1m   Installed\u001b[22m\u001b[39m InlineStrings ─────────────── v1.4.0\n",
            "\u001b[32m\u001b[1m   Installed\u001b[22m\u001b[39m TableTraits ───────────────── v1.0.1\n",
            "\u001b[32m\u001b[1m   Installed\u001b[22m\u001b[39m Formatting ────────────────── v0.4.2\n",
            "\u001b[32m\u001b[1m   Installed\u001b[22m\u001b[39m IteratorInterfaceExtensions ─ v1.0.0\n",
            "\u001b[32m\u001b[1m   Installed\u001b[22m\u001b[39m DataValueInterfaces ───────── v1.0.0\n",
            "\u001b[32m\u001b[1m   Installed\u001b[22m\u001b[39m LaTeXStrings ──────────────── v1.3.0\n",
            "\u001b[32m\u001b[1m   Installed\u001b[22m\u001b[39m OrderedCollections ────────── v1.4.1\n",
            "\u001b[32m\u001b[1m   Installed\u001b[22m\u001b[39m InvertedIndices ───────────── v1.2.0\n",
            "\u001b[32m\u001b[1m   Installed\u001b[22m\u001b[39m Reexport ──────────────────── v1.2.2\n",
            "\u001b[32m\u001b[1m   Installed\u001b[22m\u001b[39m Compat ────────────────────── v4.6.0\n",
            "\u001b[32m\u001b[1m   Installed\u001b[22m\u001b[39m DataStructures ────────────── v0.18.13\n",
            "\u001b[32m\u001b[1m   Installed\u001b[22m\u001b[39m Missings ──────────────────── v1.1.0\n",
            "\u001b[32m\u001b[1m   Installed\u001b[22m\u001b[39m SortingAlgorithms ─────────── v1.1.0\n",
            "\u001b[32m\u001b[1m   Installed\u001b[22m\u001b[39m StringManipulation ────────── v0.3.0\n",
            "\u001b[32m\u001b[1m   Installed\u001b[22m\u001b[39m DataFrames ────────────────── v1.5.0\n",
            "\u001b[32m\u001b[1m   Installed\u001b[22m\u001b[39m PrettyTables ──────────────── v2.2.2\n",
            "\u001b[32m\u001b[1m    Updating\u001b[22m\u001b[39m `~/.julia/environments/v1.8/Project.toml`\n",
            " \u001b[90m [a93c6f00] \u001b[39m\u001b[92m+ DataFrames v1.5.0\u001b[39m\n",
            "\u001b[32m\u001b[1m    Updating\u001b[22m\u001b[39m `~/.julia/environments/v1.8/Manifest.toml`\n",
            " \u001b[90m [34da2185] \u001b[39m\u001b[92m+ Compat v4.6.0\u001b[39m\n",
            " \u001b[90m [a8cc5b0e] \u001b[39m\u001b[92m+ Crayons v4.1.1\u001b[39m\n",
            " \u001b[90m [9a962f9c] \u001b[39m\u001b[92m+ DataAPI v1.14.0\u001b[39m\n",
            " \u001b[90m [a93c6f00] \u001b[39m\u001b[92m+ DataFrames v1.5.0\u001b[39m\n",
            " \u001b[90m [864edb3b] \u001b[39m\u001b[92m+ DataStructures v0.18.13\u001b[39m\n",
            " \u001b[90m [e2d170a0] \u001b[39m\u001b[92m+ DataValueInterfaces v1.0.0\u001b[39m\n",
            " \u001b[90m [59287772] \u001b[39m\u001b[92m+ Formatting v0.4.2\u001b[39m\n",
            " \u001b[90m [842dd82b] \u001b[39m\u001b[92m+ InlineStrings v1.4.0\u001b[39m\n",
            " \u001b[90m [41ab1584] \u001b[39m\u001b[92m+ InvertedIndices v1.2.0\u001b[39m\n",
            " \u001b[90m [82899510] \u001b[39m\u001b[92m+ IteratorInterfaceExtensions v1.0.0\u001b[39m\n",
            " \u001b[90m [b964fa9f] \u001b[39m\u001b[92m+ LaTeXStrings v1.3.0\u001b[39m\n",
            " \u001b[90m [e1d29d7a] \u001b[39m\u001b[92m+ Missings v1.1.0\u001b[39m\n",
            " \u001b[90m [bac558e1] \u001b[39m\u001b[92m+ OrderedCollections v1.4.1\u001b[39m\n",
            " \u001b[90m [2dfb63ee] \u001b[39m\u001b[92m+ PooledArrays v1.4.2\u001b[39m\n",
            " \u001b[90m [08abe8d2] \u001b[39m\u001b[92m+ PrettyTables v2.2.2\u001b[39m\n",
            " \u001b[90m [189a3867] \u001b[39m\u001b[92m+ Reexport v1.2.2\u001b[39m\n",
            " \u001b[90m [91c51154] \u001b[39m\u001b[92m+ SentinelArrays v1.3.17\u001b[39m\n",
            " \u001b[90m [a2af1166] \u001b[39m\u001b[92m+ SortingAlgorithms v1.1.0\u001b[39m\n",
            " \u001b[90m [892a3eda] \u001b[39m\u001b[92m+ StringManipulation v0.3.0\u001b[39m\n",
            " \u001b[90m [3783bdb8] \u001b[39m\u001b[92m+ TableTraits v1.0.1\u001b[39m\n",
            " \u001b[90m [bd369af6] \u001b[39m\u001b[92m+ Tables v1.10.0\u001b[39m\n",
            " \u001b[90m [9fa8497b] \u001b[39m\u001b[92m+ Future\u001b[39m\n",
            "\u001b[32m\u001b[1mPrecompiling\u001b[22m\u001b[39m project...\n",
            "\u001b[32m  ✓ \u001b[39m\u001b[90mOrderedCollections\u001b[39m\n",
            "\u001b[32m  ✓ \u001b[39m\u001b[90mCompat\u001b[39m\n",
            "\u001b[32m  ✓ \u001b[39m\u001b[90mDataValueInterfaces\u001b[39m\n",
            "\u001b[32m  ✓ \u001b[39m\u001b[90mLaTeXStrings\u001b[39m\n",
            "\u001b[32m  ✓ \u001b[39m\u001b[90mSentinelArrays\u001b[39m\n",
            "\u001b[32m  ✓ \u001b[39m\u001b[90mReexport\u001b[39m\n",
            "\u001b[32m  ✓ \u001b[39m\u001b[90mInvertedIndices\u001b[39m\n",
            "\u001b[32m  ✓ \u001b[39m\u001b[90mIteratorInterfaceExtensions\u001b[39m\n",
            "\u001b[32m  ✓ \u001b[39m\u001b[90mDataAPI\u001b[39m\n",
            "\u001b[32m  ✓ \u001b[39m\u001b[90mFormatting\u001b[39m\n",
            "\u001b[32m  ✓ \u001b[39m\u001b[90mCrayons\u001b[39m\n",
            "\u001b[32m  ✓ \u001b[39m\u001b[90mStringManipulation\u001b[39m\n",
            "\u001b[32m  ✓ \u001b[39m\u001b[90mTableTraits\u001b[39m\n",
            "\u001b[32m  ✓ \u001b[39m\u001b[90mPooledArrays\u001b[39m\n",
            "\u001b[32m  ✓ \u001b[39m\u001b[90mMissings\u001b[39m\n",
            "\u001b[32m  ✓ \u001b[39m\u001b[90mInlineStrings\u001b[39m\n",
            "\u001b[32m  ✓ \u001b[39m\u001b[90mTables\u001b[39m\n",
            "\u001b[32m  ✓ \u001b[39m\u001b[90mDataStructures\u001b[39m\n",
            "\u001b[32m  ✓ \u001b[39m\u001b[90mSortingAlgorithms\u001b[39m\n",
            "\u001b[32m  ✓ \u001b[39m\u001b[90mPrettyTables\u001b[39m\n",
            "\u001b[32m  ✓ \u001b[39mDataFrames\n",
            "  21 dependencies successfully precompiled in 66 seconds. 30 already precompiled.\n"
          ]
        }
      ]
    },
    {
      "cell_type": "code",
      "source": [
        "df=DataFrame(video_id=String[],video_title=String[],upload_date=String[],view_count=String[],like_count=String[],comment_count=String[])\n",
        "#df=DataFrame(video_id,video_title,upload_date,view_count,like_count,comment_count)"
      ],
      "metadata": {
        "colab": {
          "base_uri": "https://localhost:8080/",
          "height": 102
        },
        "id": "2OJscR9dsib5",
        "outputId": "810f6e85-2355-4187-e3a2-4cdbd0cc1b62"
      },
      "execution_count": 76,
      "outputs": [
        {
          "output_type": "execute_result",
          "data": {
            "text/plain": [
              "\u001b[1m0×6 DataFrame\u001b[0m\n",
              "\u001b[1m Row \u001b[0m│\u001b[1m video_id \u001b[0m\u001b[1m video_title \u001b[0m\u001b[1m upload_date \u001b[0m\u001b[1m view_count \u001b[0m\u001b[1m like_count \u001b[0m\u001b[1m comment_cou\u001b[0m ⋯\n",
              "     │\u001b[90m String   \u001b[0m\u001b[90m String      \u001b[0m\u001b[90m String      \u001b[0m\u001b[90m String     \u001b[0m\u001b[90m String     \u001b[0m\u001b[90m String     \u001b[0m ⋯\n",
              "─────┴──────────────────────────────────────────────────────────────────────────\n",
              "\u001b[36m                                                                1 column omitted\u001b[0m"
            ],
            "text/html": [
              "<div><div style = \"float: left;\"><span>0×6 DataFrame</span></div><div style = \"clear: both;\"></div></div><div class = \"data-frame\" style = \"overflow-x: scroll;\"><table class = \"data-frame\" style = \"margin-bottom: 6px;\"><thead><tr class = \"header\"><th class = \"rowNumber\" style = \"font-weight: bold; text-align: right;\">Row</th><th style = \"text-align: left;\">video_id</th><th style = \"text-align: left;\">video_title</th><th style = \"text-align: left;\">upload_date</th><th style = \"text-align: left;\">view_count</th><th style = \"text-align: left;\">like_count</th><th style = \"text-align: left;\">comment_count</th></tr><tr class = \"subheader headerLastRow\"><th class = \"rowNumber\" style = \"font-weight: bold; text-align: right;\"></th><th title = \"String\" style = \"text-align: left;\">String</th><th title = \"String\" style = \"text-align: left;\">String</th><th title = \"String\" style = \"text-align: left;\">String</th><th title = \"String\" style = \"text-align: left;\">String</th><th title = \"String\" style = \"text-align: left;\">String</th><th title = \"String\" style = \"text-align: left;\">String</th></tr></thead><tbody></tbody></table></div>"
            ],
            "text/latex": "\\begin{tabular}{r|cccccc}\n\t& video\\_id & video\\_title & upload\\_date & view\\_count & like\\_count & comment\\_count\\\\\n\t\\hline\n\t& String & String & String & String & String & String\\\\\n\t\\hline\n\\end{tabular}\n"
          },
          "metadata": {},
          "execution_count": 76
        }
      ]
    },
    {
      "cell_type": "code",
      "source": [
        "Pkg.add(\"HTTP\")\n",
        "Pkg.add(\"JSON\")\n",
        "using HTTP, JSON\n",
        "\n",
        "resp = HTTP.get(\"https://api.github.com/users/Joshua-Dias-Barreto\")\n",
        "str = String(resp.body)\n",
        "jobj = JSON.Parser.parse(str)"
      ],
      "metadata": {
        "colab": {
          "base_uri": "https://localhost:8080/"
        },
        "id": "yUPFdvTrb9B-",
        "outputId": "3ff4394e-cadc-49eb-ad39-ced7d9ebf114"
      },
      "execution_count": 13,
      "outputs": [
        {
          "output_type": "stream",
          "name": "stderr",
          "text": [
            "\u001b[32m\u001b[1m   Resolving\u001b[22m\u001b[39m package versions...\n",
            "\u001b[32m\u001b[1m  No Changes\u001b[22m\u001b[39m to `~/.julia/environments/v1.8/Project.toml`\n",
            "\u001b[32m\u001b[1m  No Changes\u001b[22m\u001b[39m to `~/.julia/environments/v1.8/Manifest.toml`\n",
            "\u001b[32m\u001b[1m   Resolving\u001b[22m\u001b[39m package versions...\n",
            "\u001b[32m\u001b[1m  No Changes\u001b[22m\u001b[39m to `~/.julia/environments/v1.8/Project.toml`\n",
            "\u001b[32m\u001b[1m  No Changes\u001b[22m\u001b[39m to `~/.julia/environments/v1.8/Manifest.toml`\n"
          ]
        },
        {
          "output_type": "execute_result",
          "data": {
            "text/plain": [
              "Dict{String, Any} with 32 entries:\n",
              "  \"followers\"         => 0\n",
              "  \"created_at\"        => \"2022-02-11T17:20:20Z\"\n",
              "  \"repos_url\"         => \"https://api.github.com/users/Joshua-Dias-Barreto/repo…\n",
              "  \"login\"             => \"Joshua-Dias-Barreto\"\n",
              "  \"gists_url\"         => \"https://api.github.com/users/Joshua-Dias-Barreto/gist…\n",
              "  \"public_repos\"      => 9\n",
              "  \"following\"         => 0\n",
              "  \"site_admin\"        => false\n",
              "  \"name\"              => \"Joshua Dias Barreto\"\n",
              "  \"location\"          => nothing\n",
              "  \"blog\"              => \"\"\n",
              "  \"subscriptions_url\" => \"https://api.github.com/users/Joshua-Dias-Barreto/subs…\n",
              "  \"id\"                => 99500414\n",
              "  \"html_url\"          => \"https://github.com/Joshua-Dias-Barreto\"\n",
              "  \"node_id\"           => \"U_kgDOBe5Bfg\"\n",
              "  \"updated_at\"        => \"2023-01-26T14:24:41Z\"\n",
              "  \"events_url\"        => \"https://api.github.com/users/Joshua-Dias-Barreto/even…\n",
              "  \"followers_url\"     => \"https://api.github.com/users/Joshua-Dias-Barreto/foll…\n",
              "  \"organizations_url\" => \"https://api.github.com/users/Joshua-Dias-Barreto/orgs\"\n",
              "  \"starred_url\"       => \"https://api.github.com/users/Joshua-Dias-Barreto/star…\n",
              "  \"avatar_url\"        => \"https://avatars.githubusercontent.com/u/99500414?v=4\"\n",
              "  \"email\"             => nothing\n",
              "  \"twitter_username\"  => nothing\n",
              "  \"company\"           => nothing\n",
              "  \"url\"               => \"https://api.github.com/users/Joshua-Dias-Barreto\"\n",
              "  ⋮                   => ⋮"
            ]
          },
          "metadata": {},
          "execution_count": 13
        }
      ]
    },
    {
      "cell_type": "markdown",
      "metadata": {
        "id": "8RC1QNNqk6h1"
      },
      "source": [
        "# Need Help?\n",
        "\n",
        "* Learning: https://julialang.org/learning/\n",
        "* Documentation: https://docs.julialang.org/\n",
        "* Questions & Discussions:\n",
        "  * https://discourse.julialang.org/\n",
        "  * http://julialang.slack.com/\n",
        "  * https://stackoverflow.com/questions/tagged/julia\n",
        "\n",
        "If you ever ask for help or file an issue about Julia, you should generally provide the output of `versioninfo()`."
      ]
    },
    {
      "cell_type": "code",
      "source": [
        "url = \"https://www.googleapis.com/youtube/v3/search?key=\"*API_KEY*\"&channelId=\"*CHANNEL_ID*\"&part=snippet,id&order=date&maxResults=300&\"*pageToken\n",
        "resp = HTTP.get(url)\n",
        "str = String(resp.body)\n",
        "response = JSON.Parser.parse(str)"
      ],
      "metadata": {
        "colab": {
          "base_uri": "https://localhost:8080/"
        },
        "id": "JTPIA6vmgUNo",
        "outputId": "5f0f8f65-582d-4437-cb34-c2f542e4e474"
      },
      "execution_count": 21,
      "outputs": [
        {
          "output_type": "execute_result",
          "data": {
            "text/plain": [
              "Dict{String, Any} with 6 entries:\n",
              "  \"kind\"          => \"youtube#searchListResponse\"\n",
              "  \"nextPageToken\" => \"CDIQAA\"\n",
              "  \"regionCode\"    => \"US\"\n",
              "  \"etag\"          => \"dv42px1-ZiWNeMC2sfPkB42ri7k\"\n",
              "  \"items\"         => Any[Dict{String, Any}(\"kind\"=>\"youtube#searchResult\", \"eta…\n",
              "  \"pageInfo\"      => Dict{String, Any}(\"totalResults\"=>444, \"resultsPerPage\"=>5…"
            ]
          },
          "metadata": {},
          "execution_count": 21
        }
      ]
    },
    {
      "cell_type": "code",
      "source": [
        "response[\"items\"]"
      ],
      "metadata": {
        "id": "C_T_FlpxgWrt"
      },
      "execution_count": 78,
      "outputs": []
    },
    {
      "cell_type": "code",
      "source": [
        "while(true)\n",
        "    url = \"https://www.googleapis.com/youtube/v3/search?key=\"*API_KEY*\"&channelId=\"*CHANNEL_ID*\"&part=snippet,id&order=date&maxResults=300&\"*pageToken\n",
        "    resp = HTTP.get(url)\n",
        "    str = String(resp.body)\n",
        "    response = JSON.Parser.parse(str)\n",
        "    for video in response[\"items\"]\n",
        "          if video[\"id\"][\"kind\"]==\"youtube#video\"\n",
        "            video_id=video[\"id\"][\"videoId\"]\n",
        "            video_title=video[\"snippet\"][\"title\"]\n",
        "            upload_date=video[\"snippet\"][\"publishedAt\"]\n",
        "            upload_date=split(upload_date,(\"T\"))\n",
        "            upload_date=upload_date[1]\n",
        "            url_video_stats=\"https://www.googleapis.com/youtube/v3/videos?id=\"*video_id*\"&part=statistics&key=\"*API_KEY\n",
        "            resp = HTTP.get(url_video_stats)\n",
        "            str = String(resp.body)\n",
        "            response_video_stats = JSON.Parser.parse(str)\n",
        "            view_count=response_video_stats[\"items\"][1][\"statistics\"][\"viewCount\"]\n",
        "            like_count=response_video_stats[\"items\"][1][\"statistics\"][\"likeCount\"]\n",
        "            comment_count=response_video_stats[\"items\"][1][\"statistics\"][\"commentCount\"]\n",
        "            push!(df, (video_id,video_title,upload_date,view_count,like_count,comment_count))\n",
        "            \n",
        "          end\n",
        "    end\n",
        "    try\n",
        "            if (response[\"nextPageToken\"] != nothing) #if none, it means it reached the last page and break out of it\n",
        "                pageToken = \"pageToken=\" * response[\"nextPageToken\"]\n",
        "            end\n",
        "\n",
        "    catch\n",
        "            break\n",
        "    end\n",
        "end"
      ],
      "metadata": {
        "id": "ETn2ZT1Kg19q"
      },
      "execution_count": 89,
      "outputs": []
    },
    {
      "cell_type": "code",
      "source": [
        "size(df)"
      ],
      "metadata": {
        "colab": {
          "base_uri": "https://localhost:8080/"
        },
        "id": "OBOslvhdrMRc",
        "outputId": "0ed5f6ff-1e15-4435-9c4d-c1216f026638"
      },
      "execution_count": 90,
      "outputs": [
        {
          "output_type": "execute_result",
          "data": {
            "text/plain": [
              "(294, 6)"
            ]
          },
          "metadata": {},
          "execution_count": 90
        }
      ]
    },
    {
      "cell_type": "code",
      "source": [
        "df"
      ],
      "metadata": {
        "colab": {
          "base_uri": "https://localhost:8080/",
          "height": 657
        },
        "id": "xXpV1mRRxMxO",
        "outputId": "015db2de-4f16-49f2-99dc-f70260685dc6"
      },
      "execution_count": 91,
      "outputs": [
        {
          "output_type": "execute_result",
          "data": {
            "text/plain": [
              "\u001b[1m294×6 DataFrame\u001b[0m\n",
              "\u001b[1m Row \u001b[0m│\u001b[1m video_id    \u001b[0m\u001b[1m video_title                       \u001b[0m\u001b[1m upload_date \u001b[0m\u001b[1m view_count\u001b[0m ⋯\n",
              "     │\u001b[90m String      \u001b[0m\u001b[90m String                            \u001b[0m\u001b[90m String      \u001b[0m\u001b[90m String    \u001b[0m ⋯\n",
              "─────┼──────────────────────────────────────────────────────────────────────────\n",
              "   1 │ pLlOkqBoZK4  Can We Outrun a Police Dog? | An…  2023-02-11   3959148    ⋯\n",
              "   2 │ MlPAmRN-uwg  Well that escalated QUICKLY 😳🎱   2023-02-04   16847917\n",
              "   3 │ gvocDKs_Sno  Oreo Roll Roulette! 🤢             2023-01-27   74614714\n",
              "   4 │ z_lgjFAxP6c  Ultimate Mini Games Battle 3       2023-01-21   8149859\n",
              "   5 │ W1cz1L5zDvM  Dude Perfect EXPOSED (Part 2) 🤫   2023-01-11   13624305   ⋯\n",
              "   6 │ IYLcZooMLbQ  Cake Flip Challenge! 😳🎂 #shorts  2023-01-06   15537981\n",
              "   7 │ n_DtpY9wbGg  Dude Perfect vs. Luka Doncic (1-…  2022-12-31   12199272\n",
              "   8 │ ZyHm55m7t-4  Dude Perfect&#39;s $100 Million …  2022-12-17   10396790\n",
              "   9 │ _ZMMlr6vWm8  Deep Sea Fishing Battle 2          2022-12-03   5874867    ⋯\n",
              "  10 │ 9GRueeQXL9w  2022 was a BLAST! 🚀 What was yo…  2022-12-02   1854693\n",
              "  11 │ r1mhvegC6is  Thanksgiving Stereotypes           2022-11-19   11101328\n",
              "  ⋮  │      ⋮                       ⋮                       ⋮           ⋮      ⋱\n",
              " 285 │ AWtabf74daM  Epic Trick Shots | Dude Perfect    2010-11-12   2448588\n",
              " 286 │ Uu5057uWEpk  Playground Edition | Dude Perfect  2010-09-24   4431166    ⋯\n",
              " 287 │ 840_S6yQb2E  Front Flip Shot w/ Tyreke Evans …  2010-04-02   3914330\n",
              " 288 │ qxPBrWZY75U  Dude Perfect Panda | Episode 4     2010-02-26   2861167\n",
              " 289 │ nSaPBEJgzn0  Dude Perfect Panda | Episode 2     2010-02-17   2958765\n",
              " 290 │ WlWmwWQaUws  Dude Perfect Panda | Episode 1     2010-02-13   3894178    ⋯\n",
              " 291 │ v9DyLRvYp9A  Worlds Longest Basketball Shot |…  2009-09-18   7519566\n",
              " 292 │ W77uk1ejcpY  World&#39;s Longest Basketball S…  2009-09-18   12938242\n",
              " 293 │ 9B1UQ1mcgMg  Ramp Shot | Dude Perfect           2009-08-27   2025199\n",
              " 294 │ jJBmQsIJjx8  Ranch Edition | Dude Perfect       2009-05-08   5486838    ⋯\n",
              "\u001b[36m                                                  2 columns and 273 rows omitted\u001b[0m"
            ],
            "text/html": [
              "<div><div style = \"float: left;\"><span>294×6 DataFrame</span></div><div style = \"float: right;\"><span style = \"font-style: italic;\">269 rows omitted</span></div><div style = \"clear: both;\"></div></div><div class = \"data-frame\" style = \"overflow-x: scroll;\"><table class = \"data-frame\" style = \"margin-bottom: 6px;\"><thead><tr class = \"header\"><th class = \"rowNumber\" style = \"font-weight: bold; text-align: right;\">Row</th><th style = \"text-align: left;\">video_id</th><th style = \"text-align: left;\">video_title</th><th style = \"text-align: left;\">upload_date</th><th style = \"text-align: left;\">view_count</th><th style = \"text-align: left;\">like_count</th><th style = \"text-align: left;\">comment_count</th></tr><tr class = \"subheader headerLastRow\"><th class = \"rowNumber\" style = \"font-weight: bold; text-align: right;\"></th><th title = \"String\" style = \"text-align: left;\">String</th><th title = \"String\" style = \"text-align: left;\">String</th><th title = \"String\" style = \"text-align: left;\">String</th><th title = \"String\" style = \"text-align: left;\">String</th><th title = \"String\" style = \"text-align: left;\">String</th><th title = \"String\" style = \"text-align: left;\">String</th></tr></thead><tbody><tr><td class = \"rowNumber\" style = \"font-weight: bold; text-align: right;\">1</td><td style = \"text-align: left;\">pLlOkqBoZK4</td><td style = \"text-align: left;\">Can We Outrun a Police Dog? | Animal Olympics</td><td style = \"text-align: left;\">2023-02-11</td><td style = \"text-align: left;\">3959148</td><td style = \"text-align: left;\">137450</td><td style = \"text-align: left;\">3592</td></tr><tr><td class = \"rowNumber\" style = \"font-weight: bold; text-align: right;\">2</td><td style = \"text-align: left;\">MlPAmRN-uwg</td><td style = \"text-align: left;\">Well that escalated QUICKLY 😳🎱</td><td style = \"text-align: left;\">2023-02-04</td><td style = \"text-align: left;\">16847917</td><td style = \"text-align: left;\">1054577</td><td style = \"text-align: left;\">9719</td></tr><tr><td class = \"rowNumber\" style = \"font-weight: bold; text-align: right;\">3</td><td style = \"text-align: left;\">gvocDKs_Sno</td><td style = \"text-align: left;\">Oreo Roll Roulette! 🤢</td><td style = \"text-align: left;\">2023-01-27</td><td style = \"text-align: left;\">74614714</td><td style = \"text-align: left;\">3575278</td><td style = \"text-align: left;\">5661</td></tr><tr><td class = \"rowNumber\" style = \"font-weight: bold; text-align: right;\">4</td><td style = \"text-align: left;\">z_lgjFAxP6c</td><td style = \"text-align: left;\">Ultimate Mini Games Battle 3</td><td style = \"text-align: left;\">2023-01-21</td><td style = \"text-align: left;\">8149859</td><td style = \"text-align: left;\">201108</td><td style = \"text-align: left;\">4267</td></tr><tr><td class = \"rowNumber\" style = \"font-weight: bold; text-align: right;\">5</td><td style = \"text-align: left;\">W1cz1L5zDvM</td><td style = \"text-align: left;\">Dude Perfect EXPOSED (Part 2) 🤫</td><td style = \"text-align: left;\">2023-01-11</td><td style = \"text-align: left;\">13624305</td><td style = \"text-align: left;\">735215</td><td style = \"text-align: left;\">8959</td></tr><tr><td class = \"rowNumber\" style = \"font-weight: bold; text-align: right;\">6</td><td style = \"text-align: left;\">IYLcZooMLbQ</td><td style = \"text-align: left;\">Cake Flip Challenge! 😳🎂 #shorts</td><td style = \"text-align: left;\">2023-01-06</td><td style = \"text-align: left;\">15537981</td><td style = \"text-align: left;\">912328</td><td style = \"text-align: left;\">4219</td></tr><tr><td class = \"rowNumber\" style = \"font-weight: bold; text-align: right;\">7</td><td style = \"text-align: left;\">n_DtpY9wbGg</td><td style = \"text-align: left;\">Dude Perfect vs. Luka Doncic (1-on-1)</td><td style = \"text-align: left;\">2022-12-31</td><td style = \"text-align: left;\">12199272</td><td style = \"text-align: left;\">402562</td><td style = \"text-align: left;\">7722</td></tr><tr><td class = \"rowNumber\" style = \"font-weight: bold; text-align: right;\">8</td><td style = \"text-align: left;\">ZyHm55m7t-4</td><td style = \"text-align: left;\">Dude Perfect&amp;#39;s $100 Million Theme Park</td><td style = \"text-align: left;\">2022-12-17</td><td style = \"text-align: left;\">10396790</td><td style = \"text-align: left;\">323323</td><td style = \"text-align: left;\">14583</td></tr><tr><td class = \"rowNumber\" style = \"font-weight: bold; text-align: right;\">9</td><td style = \"text-align: left;\">_ZMMlr6vWm8</td><td style = \"text-align: left;\">Deep Sea Fishing Battle 2</td><td style = \"text-align: left;\">2022-12-03</td><td style = \"text-align: left;\">5874867</td><td style = \"text-align: left;\">184362</td><td style = \"text-align: left;\">4881</td></tr><tr><td class = \"rowNumber\" style = \"font-weight: bold; text-align: right;\">10</td><td style = \"text-align: left;\">9GRueeQXL9w</td><td style = \"text-align: left;\">2022 was a BLAST! 🚀 What was your favorite moment from this year?? #2022inShort #ad</td><td style = \"text-align: left;\">2022-12-02</td><td style = \"text-align: left;\">1854693</td><td style = \"text-align: left;\">69676</td><td style = \"text-align: left;\">637</td></tr><tr><td class = \"rowNumber\" style = \"font-weight: bold; text-align: right;\">11</td><td style = \"text-align: left;\">r1mhvegC6is</td><td style = \"text-align: left;\">Thanksgiving Stereotypes</td><td style = \"text-align: left;\">2022-11-19</td><td style = \"text-align: left;\">11101328</td><td style = \"text-align: left;\">267632</td><td style = \"text-align: left;\">7998</td></tr><tr><td class = \"rowNumber\" style = \"font-weight: bold; text-align: right;\">12</td><td style = \"text-align: left;\">YXXlSG-du7c</td><td style = \"text-align: left;\">Dude Perfect Goes to SPACE</td><td style = \"text-align: left;\">2022-11-05</td><td style = \"text-align: left;\">23205130</td><td style = \"text-align: left;\">1042402</td><td style = \"text-align: left;\">39052</td></tr><tr><td class = \"rowNumber\" style = \"font-weight: bold; text-align: right;\">13</td><td style = \"text-align: left;\">hF6X2ap_6Q8</td><td style = \"text-align: left;\">Gun Game Airsoft Battle</td><td style = \"text-align: left;\">2022-10-22</td><td style = \"text-align: left;\">8185609</td><td style = \"text-align: left;\">276257</td><td style = \"text-align: left;\">6687</td></tr><tr><td style = \"text-align: right;\">&vellip;</td><td style = \"text-align: right;\">&vellip;</td><td style = \"text-align: right;\">&vellip;</td><td style = \"text-align: right;\">&vellip;</td><td style = \"text-align: right;\">&vellip;</td><td style = \"text-align: right;\">&vellip;</td><td style = \"text-align: right;\">&vellip;</td></tr><tr><td class = \"rowNumber\" style = \"font-weight: bold; text-align: right;\">283</td><td style = \"text-align: left;\">NqpBZuWE-H8</td><td style = \"text-align: left;\">WORLD RECORD Reliant Stadium Shot | Dude Perfect</td><td style = \"text-align: left;\">2011-03-16</td><td style = \"text-align: left;\">3074949</td><td style = \"text-align: left;\">16341</td><td style = \"text-align: left;\">1302</td></tr><tr><td class = \"rowNumber\" style = \"font-weight: bold; text-align: right;\">284</td><td style = \"text-align: left;\">zCqMPJnyihQ</td><td style = \"text-align: left;\">Dude Perfect™ on Jimmy Kimmel</td><td style = \"text-align: left;\">2011-01-22</td><td style = \"text-align: left;\">2475898</td><td style = \"text-align: left;\">36569</td><td style = \"text-align: left;\">1903</td></tr><tr><td class = \"rowNumber\" style = \"font-weight: bold; text-align: right;\">285</td><td style = \"text-align: left;\">AWtabf74daM</td><td style = \"text-align: left;\">Epic Trick Shots | Dude Perfect</td><td style = \"text-align: left;\">2010-11-12</td><td style = \"text-align: left;\">2448588</td><td style = \"text-align: left;\">14845</td><td style = \"text-align: left;\">1418</td></tr><tr><td class = \"rowNumber\" style = \"font-weight: bold; text-align: right;\">286</td><td style = \"text-align: left;\">Uu5057uWEpk</td><td style = \"text-align: left;\">Playground Edition | Dude Perfect</td><td style = \"text-align: left;\">2010-09-24</td><td style = \"text-align: left;\">4431166</td><td style = \"text-align: left;\">26957</td><td style = \"text-align: left;\">2511</td></tr><tr><td class = \"rowNumber\" style = \"font-weight: bold; text-align: right;\">287</td><td style = \"text-align: left;\">840_S6yQb2E</td><td style = \"text-align: left;\">Front Flip Shot w/ Tyreke Evans | Dude Perfect</td><td style = \"text-align: left;\">2010-04-02</td><td style = \"text-align: left;\">3914330</td><td style = \"text-align: left;\">16617</td><td style = \"text-align: left;\">640</td></tr><tr><td class = \"rowNumber\" style = \"font-weight: bold; text-align: right;\">288</td><td style = \"text-align: left;\">qxPBrWZY75U</td><td style = \"text-align: left;\">Dude Perfect Panda | Episode 4</td><td style = \"text-align: left;\">2010-02-26</td><td style = \"text-align: left;\">2861167</td><td style = \"text-align: left;\">18214</td><td style = \"text-align: left;\">896</td></tr><tr><td class = \"rowNumber\" style = \"font-weight: bold; text-align: right;\">289</td><td style = \"text-align: left;\">nSaPBEJgzn0</td><td style = \"text-align: left;\">Dude Perfect Panda | Episode 2</td><td style = \"text-align: left;\">2010-02-17</td><td style = \"text-align: left;\">2958765</td><td style = \"text-align: left;\">18060</td><td style = \"text-align: left;\">849</td></tr><tr><td class = \"rowNumber\" style = \"font-weight: bold; text-align: right;\">290</td><td style = \"text-align: left;\">WlWmwWQaUws</td><td style = \"text-align: left;\">Dude Perfect Panda | Episode 1</td><td style = \"text-align: left;\">2010-02-13</td><td style = \"text-align: left;\">3894178</td><td style = \"text-align: left;\">30072</td><td style = \"text-align: left;\">1158</td></tr><tr><td class = \"rowNumber\" style = \"font-weight: bold; text-align: right;\">291</td><td style = \"text-align: left;\">v9DyLRvYp9A</td><td style = \"text-align: left;\">Worlds Longest Basketball Shot | FIELD VIEW | Dude Perfect</td><td style = \"text-align: left;\">2009-09-18</td><td style = \"text-align: left;\">7519566</td><td style = \"text-align: left;\">14392</td><td style = \"text-align: left;\">3282</td></tr><tr><td class = \"rowNumber\" style = \"font-weight: bold; text-align: right;\">292</td><td style = \"text-align: left;\">W77uk1ejcpY</td><td style = \"text-align: left;\">World&amp;#39;s Longest Basketball Shot | 3rd DECK VIEW | Dude Perfect</td><td style = \"text-align: left;\">2009-09-18</td><td style = \"text-align: left;\">12938242</td><td style = \"text-align: left;\">45762</td><td style = \"text-align: left;\">4170</td></tr><tr><td class = \"rowNumber\" style = \"font-weight: bold; text-align: right;\">293</td><td style = \"text-align: left;\">9B1UQ1mcgMg</td><td style = \"text-align: left;\">Ramp Shot | Dude Perfect</td><td style = \"text-align: left;\">2009-08-27</td><td style = \"text-align: left;\">2025199</td><td style = \"text-align: left;\">15479</td><td style = \"text-align: left;\">1300</td></tr><tr><td class = \"rowNumber\" style = \"font-weight: bold; text-align: right;\">294</td><td style = \"text-align: left;\">jJBmQsIJjx8</td><td style = \"text-align: left;\">Ranch Edition | Dude Perfect</td><td style = \"text-align: left;\">2009-05-08</td><td style = \"text-align: left;\">5486838</td><td style = \"text-align: left;\">44025</td><td style = \"text-align: left;\">4065</td></tr></tbody></table></div>"
            ],
            "text/latex": "\\begin{tabular}{r|ccc}\n\t& video\\_id & video\\_title & \\\\\n\t\\hline\n\t& String & String & \\\\\n\t\\hline\n\t1 & pLlOkqBoZK4 & Can We Outrun a Police Dog? | Animal Olympics & $\\dots$ \\\\\n\t2 & MlPAmRN-uwg & Well that escalated QUICKLY 😳🎱 & $\\dots$ \\\\\n\t3 & gvocDKs\\_Sno & Oreo Roll Roulette! 🤢 & $\\dots$ \\\\\n\t4 & z\\_lgjFAxP6c & Ultimate Mini Games Battle 3 & $\\dots$ \\\\\n\t5 & W1cz1L5zDvM & Dude Perfect EXPOSED (Part 2) 🤫 & $\\dots$ \\\\\n\t6 & IYLcZooMLbQ & Cake Flip Challenge! 😳🎂 \\#shorts & $\\dots$ \\\\\n\t7 & n\\_DtpY9wbGg & Dude Perfect vs. Luka Doncic (1-on-1) & $\\dots$ \\\\\n\t8 & ZyHm55m7t-4 & Dude Perfect\\&\\#39;s \\$100 Million Theme Park & $\\dots$ \\\\\n\t9 & \\_ZMMlr6vWm8 & Deep Sea Fishing Battle 2 & $\\dots$ \\\\\n\t10 & 9GRueeQXL9w & 2022 was a BLAST! 🚀 What was your favorite moment from this year?? \\#2022inShort \\#ad & $\\dots$ \\\\\n\t11 & r1mhvegC6is & Thanksgiving Stereotypes & $\\dots$ \\\\\n\t12 & YXXlSG-du7c & Dude Perfect Goes to SPACE & $\\dots$ \\\\\n\t13 & hF6X2ap\\_6Q8 & Gun Game Airsoft Battle & $\\dots$ \\\\\n\t14 & etV\\_nxVU6l8 & Wedding Stereotypes & $\\dots$ \\\\\n\t15 & oW-ayP9BbHs & Stair Jump CHALLENGE & $\\dots$ \\\\\n\t16 & \\_snnKw-EywM & Archery World Records & $\\dots$ \\\\\n\t17 & DK0xCH--t8k & Loser Gets Full Body Casted | OT 35 & $\\dots$ \\\\\n\t18 & ehPugxlo\\_oY & Ultimate Mini Games Battle 2 & $\\dots$ \\\\\n\t19 & \\_YUc8tXDjxQ & World\\&\\#39;s Longest Trick Shot Machine & $\\dots$ \\\\\n\t20 & 4oe-Cy\\_dIQk & Dude Perfect EXPOSED 🤫🤫🤫 & $\\dots$ \\\\\n\t21 & jcwaXQ2tGl8 & It Just Keeps Getting Better 😂🏓 & $\\dots$ \\\\\n\t22 & TJc4HjMBpSM & Impossible Ping Pong Vase Challenge & $\\dots$ \\\\\n\t23 & fIgysTSIXfE & Bucket List: Desert & $\\dots$ \\\\\n\t24 & venrE8gdz30 & Model Rocket Battle 3 | Dude Perfect & $\\dots$ \\\\\n\t25 & s1tEvufgEyU & Real Life Invisibility Shield | OT34 & $\\dots$ \\\\\n\t26 & IlhYyVRklDI & That Ball Touched The CLOUDS 🏈☁️ \\#shorts & $\\dots$ \\\\\n\t27 & 7VzDrqjhcXs & RC Edition 2 | Dude Perfect & $\\dots$ \\\\\n\t28 & \\_CH8uu3L4D0 & New Parent Stereotypes & $\\dots$ \\\\\n\t29 & pQuk3t2aeBo & Treasure Hunting Battle: Crystals & $\\dots$ \\\\\n\t30 & gmuAN\\_n3\\_tY & Water Balloon Roulette 🎈💦😬 & $\\dots$ \\\\\n\t$\\dots$ & $\\dots$ & $\\dots$ &  \\\\\n\\end{tabular}\n"
          },
          "metadata": {},
          "execution_count": 91
        }
      ]
    },
    {
      "cell_type": "markdown",
      "metadata": {
        "id": "2UMidUQB03vJ"
      },
      "source": [
        "Add new code cells by clicking the `+ Code` button (or _Insert_ > _Code cell_).\n",
        "\n",
        "Have fun!\n",
        "\n",
        "<img src=\"https://raw.githubusercontent.com/JuliaLang/julia-logo-graphics/master/images/julia-logo-mask.png\" height=\"100\" />"
      ]
    }
  ]
}